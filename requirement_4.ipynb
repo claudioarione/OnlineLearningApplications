{
 "cells": [
  {
   "cell_type": "markdown",
   "metadata": {},
   "source": [
    "# Requirement 4"
   ]
  },
  {
   "cell_type": "code",
   "execution_count": null,
   "metadata": {},
   "outputs": [],
   "source": [
    "import numpy as np\n",
    "import matplotlib.pyplot as plt\n",
    "from tqdm import tqdm"
   ]
  },
  {
   "cell_type": "code",
   "execution_count": null,
   "metadata": {},
   "outputs": [],
   "source": [
    "class Auction: #say this is sort of an abstract class\n",
    "    def __init__(self, *args, **kwargs):\n",
    "        pass\n",
    "\n",
    "    def get_winners(self, bids):\n",
    "        pass\n",
    "\n",
    "    def get_payments_per_click(self, winners, values, bids):\n",
    "        pass\n",
    "\n",
    "    def round(self, bids):\n",
    "        winners, values = self.get_winners(bids) # allocation mechanism!\n",
    "        payments_per_click = self.get_payments_per_click(winners, values, bids)\n",
    "        return winners, payments_per_click"
   ]
  },
  {
   "cell_type": "code",
   "execution_count": null,
   "metadata": {},
   "outputs": [],
   "source": [
    "class FirstPriceAuction(Auction): #nearly almost all publishers switch to this in the last years\n",
    "    def __init__(self, ctrs):\n",
    "        self.ctrs = ctrs\n",
    "        self.n_adv = len(self.ctrs)\n",
    "    \n",
    "    def get_winners(self, bids):\n",
    "        adv_values = self.ctrs*bids\n",
    "        adv_ranking = np.argsort(adv_values)\n",
    "        winner = adv_ranking[-1]\n",
    "        return winner, adv_values\n",
    "    \n",
    "    def get_payments_per_click(self, winners, values, bids):\n",
    "        payment = bids[winners]\n",
    "        return payment.round(2)"
   ]
  },
  {
   "cell_type": "code",
   "execution_count": null,
   "metadata": {},
   "outputs": [],
   "source": [
    "# A primal-dual algorithm for truthful auctions\n",
    "class MultiplicativePacingAgent:\n",
    "    def __init__(self, valuation, budget, T, eta):\n",
    "        self.valuation = valuation\n",
    "        self.budget = budget\n",
    "        self.eta = eta\n",
    "        self.T = T\n",
    "        self.rho = self.budget/self.T\n",
    "        self.lmbd = 1\n",
    "        self.t = 0\n",
    "\n",
    "    def bid(self):\n",
    "        if self.budget < 1:\n",
    "            return 0\n",
    "        return self.valuation/(self.lmbd+1) # Scaled bid\n",
    "\n",
    "    def update(self, f_t, c_t):\n",
    "        self.lmbd = np.clip(self.lmbd-self.eta*(self.rho-c_t),\n",
    "                            a_min=0, a_max=1/self.rho)\n",
    "        #Update the lambda\n",
    "        self.budget -= c_t"
   ]
  },
  {
   "cell_type": "code",
   "execution_count": null,
   "metadata": {},
   "outputs": [],
   "source": [
    "class UCB1Agent():\n",
    "    def __init__(self, valuation, budget, K, T, range=1):\n",
    "        self.K = K\n",
    "        self.T = T\n",
    "        self.range = range\n",
    "        self.a_t = None\n",
    "        self.average_rewards = np.zeros(K)\n",
    "        self.N_pulls = np.zeros(K)\n",
    "        self.t = 0\n",
    "        self.valuation = valuation\n",
    "        self.budget = budget\n",
    "        self.bids = np.linspace(0, 1, K)\n",
    "    \n",
    "    def bid(self):\n",
    "        if self.budget < 1:\n",
    "            return 0\n",
    "        if self.t < self.K:\n",
    "            self.a_t = self.t\n",
    "        else:\n",
    "            ucbs = self.average_rewards + self.range*np.sqrt(2*np.log(self.T)/self.N_pulls)\n",
    "            self.a_t = np.argmax(ucbs)\n",
    "        return self.bids[self.a_t]\n",
    "    \n",
    "    def update(self, r_t, c_t):\n",
    "        self.N_pulls[self.a_t] += 1\n",
    "        self.average_rewards[self.a_t] += (r_t - self.average_rewards[self.a_t])/self.N_pulls[self.a_t]\n",
    "        self.t += 1\n",
    "        self.budget -= c_t"
   ]
  }
 ],
 "metadata": {
  "language_info": {
   "name": "python"
  }
 },
 "nbformat": 4,
 "nbformat_minor": 2
}
